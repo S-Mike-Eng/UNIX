{
  "nbformat": 4,
  "nbformat_minor": 0,
  "metadata": {
    "colab": {
      "name": "fall detection.ipnb",
      "provenance": [],
      "collapsed_sections": [],
      "mount_file_id": "1yxMLiF3pjv_gukMeMkFd0seRkF6ka-1A",
      "authorship_tag": "ABX9TyO+SL99HuZS/zWoGGCQ7vkj",
      "include_colab_link": true
    },
    "kernelspec": {
      "name": "python3",
      "display_name": "Python 3"
    },
    "accelerator": "GPU"
  },
  "cells": [
    {
      "cell_type": "markdown",
      "metadata": {
        "id": "view-in-github",
        "colab_type": "text"
      },
      "source": [
        "<a href=\"https://colab.research.google.com/github/S-Mike-Eng/UNIX/blob/master/fall_detection_ipnb.ipynb\" target=\"_parent\"><img src=\"https://colab.research.google.com/assets/colab-badge.svg\" alt=\"Open In Colab\"/></a>"
      ]
    },
    {
      "cell_type": "code",
      "metadata": {
        "id": "zgzsqPF84xj5"
      },
      "source": [
        "import keras\r\n",
        "import tensorflow as tf\r\n"
      ],
      "execution_count": 1,
      "outputs": []
    },
    {
      "cell_type": "code",
      "metadata": {
        "colab": {
          "base_uri": "https://localhost:8080/"
        },
        "id": "tQAV3IHRXZlL",
        "outputId": "0c6eac9f-98c4-46bb-9dba-402cab20f12d"
      },
      "source": [
        "cd /content/Fall-detection/mrfd/\r\n"
      ],
      "execution_count": 3,
      "outputs": [
        {
          "output_type": "stream",
          "text": [
            "/content/Fall-detection/mrfd\n"
          ],
          "name": "stdout"
        }
      ]
    },
    {
      "cell_type": "markdown",
      "metadata": {
        "id": "D_LoXSGtYX29"
      },
      "source": [
        "# New Section"
      ]
    },
    {
      "cell_type": "code",
      "metadata": {
        "colab": {
          "base_uri": "https://localhost:8080/"
        },
        "id": "ATl37dt6CUjs",
        "outputId": "258fed51-d07a-4640-919c-74c13122f27a"
      },
      "source": [
        "!python person_tracking.py\r\n"
      ],
      "execution_count": 49,
      "outputs": [
        {
          "output_type": "stream",
          "text": [
            "2021-02-26 12:46:23.401902: I tensorflow/stream_executor/platform/default/dso_loader.cc:49] Successfully opened dynamic library libcudart.so.10.1\n",
            "Traceback (most recent call last):\n",
            "  File \"person_tracking.py\", line 54, in <module>\n",
            "    import get_localization\n",
            "ModuleNotFoundError: No module named 'get_localization'\n"
          ],
          "name": "stdout"
        }
      ]
    },
    {
      "cell_type": "markdown",
      "metadata": {
        "id": "3oZaiYmTliP7"
      },
      "source": [
        ""
      ]
    }
  ]
}